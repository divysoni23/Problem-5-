{
 "cells": [
  {
   "cell_type": "code",
   "execution_count": 8,
   "id": "6236a510-b161-46a6-932e-c2aa78baea36",
   "metadata": {},
   "outputs": [
    {
     "name": "stdout",
     "output_type": "stream",
     "text": [
      "        Age  Income ($)\n",
      "0 -1.497410   -0.859338\n",
      "1  0.394055    0.859338\n",
      "2 -0.078811    0.000000\n",
      "3 -1.024544    1.718676\n",
      "4  0.866921   -1.074172\n",
      "5  1.339788   -0.644503\n"
     ]
    }
   ],
   "source": [
    "import pandas as pd\n",
    "from sklearn.preprocessing import StandardScaler\n",
    "\n",
    "# Create a DataFrame with the given data\n",
    "data = {'Age': [30, 50, 45, 35, 55, 60],\n",
    "        'Income ($)': [60000, 140000, 100000, 180000, 50000, 70000]}\n",
    "\n",
    "df = pd.DataFrame(data)\n",
    "\n",
    "# Initialize the StandardScaler\n",
    "scaler = StandardScaler()\n",
    "\n",
    "# Apply standard scaling to the data\n",
    "scaled_data = scaler.fit_transform(df)\n",
    "\n",
    "# Convert the scaled data back into a DataFrame\n",
    "scaled_df = pd.DataFrame(scaled_data, columns=df.columns)\n",
    "\n",
    "# Display the scaled DataFrame\n",
    "print(scaled_df)"
   ]
  },
  {
   "cell_type": "code",
   "execution_count": null,
   "id": "84439fb7-420f-46c1-95c4-ec02ec6f8ecb",
   "metadata": {},
   "outputs": [],
   "source": []
  }
 ],
 "metadata": {
  "kernelspec": {
   "display_name": "Python 3 (ipykernel)",
   "language": "python",
   "name": "python3"
  },
  "language_info": {
   "codemirror_mode": {
    "name": "ipython",
    "version": 3
   },
   "file_extension": ".py",
   "mimetype": "text/x-python",
   "name": "python",
   "nbconvert_exporter": "python",
   "pygments_lexer": "ipython3",
   "version": "3.12.4"
  }
 },
 "nbformat": 4,
 "nbformat_minor": 5
}
